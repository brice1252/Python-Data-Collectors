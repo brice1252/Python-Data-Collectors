{
 "cells": [
  {
   "cell_type": "code",
   "execution_count": 1,
   "id": "9a3f2fe3-9b9d-4f10-98f4-a7ca7f9bf574",
   "metadata": {},
   "outputs": [],
   "source": [
    "import httpx\n",
    "import unicodedata\n",
    "import pandas as pd"
   ]
  },
  {
   "cell_type": "code",
   "execution_count": 2,
   "id": "a3a4e2d2-36ee-47ad-8931-25ded05b3522",
   "metadata": {},
   "outputs": [],
   "source": [
    "# 1. Fetch the feed\n",
    "URL = \"https://api.digikala.com/v1/incredible-offers/\"\n",
    "r = httpx.get(URL, timeout=httpx.Timeout(30.0))\n",
    "r.raise_for_status()                                   # <-- network / API errors bubble up\n",
    "products = r.json()[\"data\"][\"incredible_products_list\"][\"products\"]\n"
   ]
  },
  {
   "cell_type": "code",
   "execution_count": 3,
   "id": "31653ca1-2170-4729-a02a-8b403cd3ff6f",
   "metadata": {},
   "outputs": [
    {
     "name": "stdout",
     "output_type": "stream",
     "text": [
      "✅  Saved 20 rows to products_sorted_by_discount.xlsx\n"
     ]
    }
   ],
   "source": [
    "\n",
    "def price_int(p: dict, key: str) -> int | None:\n",
    "    # گرفتن مقدار قیمت از دیکشنری default_variant['price']\n",
    "    if p.get(\"default_variant\") and p[\"default_variant\"].get(\"price\"):\n",
    "        return p[\"default_variant\"][\"price\"].get(key)\n",
    "    return None\n",
    "\n",
    "def strip_invisibles(text: str) -> str:\n",
    "    # حذف کاراکترهای نامرئی در صورت نیاز (مثال ساده)\n",
    "    return text.strip()\n",
    "\n",
    "rows = []\n",
    "\n",
    "for p in products:\n",
    "    org = price_int(p, \"rrp_price\")\n",
    "    incr = price_int(p, \"selling_price\")\n",
    "    discount = None\n",
    "    if p.get(\"default_variant\") and p[\"default_variant\"].get(\"price\"):\n",
    "        discount = p[\"default_variant\"][\"price\"].get(\"discount_percent\")\n",
    "    \n",
    "    rows.append(\n",
    "        {\n",
    "            \"title\": strip_invisibles(p[\"title_fa\"]),\n",
    "            \"product_url\": f\"https://www.digikala.com{p['url']['uri']}\",\n",
    "            \"org_price_toman\": org,\n",
    "            \"selling_price_toman\": incr,\n",
    "            \"discount_percent\": discount if discount is not None else 0,\n",
    "        }\n",
    "    )\n",
    "\n",
    "# مرتب‌سازی براساس درصد تخفیف از زیاد به کم\n",
    "rows_sorted = sorted(rows, key=lambda x: x[\"discount_percent\"], reverse=True)\n",
    "\n",
    "# تبدیل به DataFrame\n",
    "df = pd.DataFrame(rows_sorted)\n",
    "\n",
    "# ذخیره به فایل اکسل\n",
    "out_file = \"products_sorted_by_discount.xlsx\"\n",
    "df.to_excel(out_file, index=False, engine=\"openpyxl\")\n",
    "\n",
    "print(f\"✅  Saved {len(df)} rows to {out_file}\")"
   ]
  },
  {
   "cell_type": "code",
   "execution_count": null,
   "id": "f72158e2-1dcb-4781-8959-beff01247484",
   "metadata": {},
   "outputs": [],
   "source": []
  }
 ],
 "metadata": {
  "kernelspec": {
   "display_name": "Python 3.11",
   "language": "python",
   "name": "python311"
  },
  "language_info": {
   "codemirror_mode": {
    "name": "ipython",
    "version": 3
   },
   "file_extension": ".py",
   "mimetype": "text/x-python",
   "name": "python",
   "nbconvert_exporter": "python",
   "pygments_lexer": "ipython3",
   "version": "3.11.3"
  }
 },
 "nbformat": 4,
 "nbformat_minor": 5
}
